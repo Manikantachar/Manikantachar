{
  "nbformat": 4,
  "nbformat_minor": 0,
  "metadata": {
    "colab": {
      "private_outputs": true,
      "provenance": [],
      "collapsed_sections": [
        "K5QZ13OEpz2H",
        "fge-S5ZAYoAp",
        "85gYPyotYoAp",
        "RoGjAbkUYoAp",
        "F6T5p64dYrdO",
        "y-Ehk30pYrdP",
        "gIfDvo9L0UH2"
      ]
    },
    "kernelspec": {
      "name": "python3",
      "display_name": "Python 3"
    },
    "language_info": {
      "name": "python"
    }
  },
  "cells": [
    {
      "cell_type": "markdown",
      "source": [
        "# **Project Name**    -\n",
        "\n"
      ],
      "metadata": {
        "id": "vncDsAP0Gaoa"
      }
    },
    {
      "cell_type": "markdown",
      "source": [
        "##### **Project Type**    - EDA\n",
        "##### **Contribution**    - Individual\n",
        "##### **Team Member-VALABHOJU MANIKANTA CHARI"
      ],
      "metadata": {
        "id": "beRrZCGUAJYm"
      }
    },
    {
      "cell_type": "markdown",
      "source": [
        "The hotel bookings dataset is a comprehensive compilation of various attributes related to hotel reservations, encapsulating the nuances of customer behavior, booking trends, and operational details. This dataset is composed of 32 columns, each detailing specific aspects of a booking, ranging from basic information like the type of hotel to more intricate details such as special requests and the Average Daily Rate (ADR). Here’s an in-depth look at the dataset and its potential applications."
      ],
      "metadata": {
        "id": "FJNUwmbgGyua"
      }
    },
    {
      "cell_type": "markdown",
      "source": [
        "Write the summary here within 500-600 words."
      ],
      "metadata": {
        "id": "F6v_1wHtG2nS"
      }
    },
    {
      "cell_type": "markdown",
      "source": [
        "# **GitHub Link -**"
      ],
      "metadata": {
        "id": "w6K7xa23Elo4"
      }
    },
    {
      "cell_type": "markdown",
      "source": [],
      "metadata": {
        "id": "h1o69JH3Eqqn"
      }
    },
    {
      "cell_type": "markdown",
      "source": [
        "# **Problem Statement**\n"
      ],
      "metadata": {
        "id": "yQaldy8SH6Dl"
      }
    },
    {
      "cell_type": "markdown",
      "source": [
        "The hotel industry is highly competitive, with businesses striving to maximize occupancy rates, optimize pricing strategies, enhance customer satisfaction, and improve operational efficiency. The dataset provided contains detailed information on hotel bookings, encompassing various factors that influence these key performance indicators."
      ],
      "metadata": {
        "id": "DpeJGUA3kjGy"
      }
    },
    {
      "cell_type": "markdown",
      "source": [
        "#### **Define Your Business Objective?**"
      ],
      "metadata": {
        "id": "PH-0ReGfmX4f"
      }
    },
    {
      "cell_type": "markdown",
      "source": [
        "Cancellation Analysis,Booking Patterns,Guest Demographics,Market Segment and Channel Performance. We can use this data to find insights of data."
      ],
      "metadata": {
        "id": "PhDvGCAqmjP1"
      }
    },
    {
      "cell_type": "markdown",
      "source": [
        "# **General Guidelines** : -  "
      ],
      "metadata": {
        "id": "mDgbUHAGgjLW"
      }
    },
    {
      "cell_type": "markdown",
      "source": [
        "1.   Well-structured, formatted, and commented code is required.\n",
        "2.   Exception Handling, Production Grade Code & Deployment Ready Code will be a plus. Those students will be awarded some additional credits.\n",
        "     \n",
        "     The additional credits will have advantages over other students during Star Student selection.\n",
        "       \n",
        "             [ Note: - Deployment Ready Code is defined as, the whole .ipynb notebook should be executable in one go\n",
        "                       without a single error logged. ]\n",
        "\n",
        "3.   Each and every logic should have proper comments.\n",
        "4. You may add as many number of charts you want. Make Sure for each and every chart the following format should be answered.\n",
        "        \n",
        "\n",
        "```\n",
        "# Chart visualization code\n",
        "```\n",
        "            \n",
        "\n",
        "*   Why did you pick the specific chart?\n",
        "*   What is/are the insight(s) found from the chart?\n",
        "* Will the gained insights help creating a positive business impact?\n",
        "Are there any insights that lead to negative growth? Justify with specific reason.\n",
        "\n",
        "5. You have to create at least 20 logical & meaningful charts having important insights.\n",
        "\n",
        "\n",
        "[ Hints : - Do the Vizualization in  a structured way while following \"UBM\" Rule.\n",
        "\n",
        "U - Univariate Analysis,\n",
        "\n",
        "B - Bivariate Analysis (Numerical - Categorical, Numerical - Numerical, Categorical - Categorical)\n",
        "\n",
        "M - Multivariate Analysis\n",
        " ]\n",
        "\n",
        "\n",
        "\n"
      ],
      "metadata": {
        "id": "ZrxVaUj-hHfC"
      }
    },
    {
      "cell_type": "markdown",
      "source": [
        "# ***Let's Begin !***"
      ],
      "metadata": {
        "id": "O_i_v8NEhb9l"
      }
    },
    {
      "cell_type": "markdown",
      "source": [
        "## ***1. Know Your Data***"
      ],
      "metadata": {
        "id": "HhfV-JJviCcP"
      }
    },
    {
      "cell_type": "markdown",
      "source": [
        "### Import Libraries"
      ],
      "metadata": {
        "id": "Y3lxredqlCYt"
      }
    },
    {
      "cell_type": "code",
      "source": [
        "# Import Libraries\n",
        "import numpy as np\n",
        "import pandas as pd\n",
        "import matplotlib.pyplot as plt\n",
        "import seaborn as sn"
      ],
      "metadata": {
        "id": "M8Vqi-pPk-HR"
      },
      "execution_count": null,
      "outputs": []
    },
    {
      "cell_type": "markdown",
      "source": [
        "### Dataset Loading"
      ],
      "metadata": {
        "id": "3RnN4peoiCZX"
      }
    },
    {
      "cell_type": "code",
      "source": [
        "# Load Dataset\n",
        "data=pd.read_csv(\"/content/Hotel Bookings 1.csv\")"
      ],
      "metadata": {
        "id": "4CkvbW_SlZ_R"
      },
      "execution_count": null,
      "outputs": []
    },
    {
      "cell_type": "markdown",
      "source": [
        "### Dataset First View"
      ],
      "metadata": {
        "id": "x71ZqKXriCWQ"
      }
    },
    {
      "cell_type": "code",
      "source": [
        "# Dataset First Look\n",
        "data"
      ],
      "metadata": {
        "id": "LWNFOSvLl09H"
      },
      "execution_count": null,
      "outputs": []
    },
    {
      "cell_type": "markdown",
      "source": [
        "### Dataset Rows & Columns count"
      ],
      "metadata": {
        "id": "7hBIi_osiCS2"
      }
    },
    {
      "cell_type": "code",
      "source": [
        "# Dataset Rows & Columns count\n",
        "print(\"the nuber of rows and columns-\",data.shape)"
      ],
      "metadata": {
        "id": "Kllu7SJgmLij"
      },
      "execution_count": null,
      "outputs": []
    },
    {
      "cell_type": "markdown",
      "source": [
        "### Dataset Information"
      ],
      "metadata": {
        "id": "JlHwYmJAmNHm"
      }
    },
    {
      "cell_type": "code",
      "source": [
        "# Dataset Info\n",
        "data.info()"
      ],
      "metadata": {
        "id": "e9hRXRi6meOf"
      },
      "execution_count": null,
      "outputs": []
    },
    {
      "cell_type": "markdown",
      "source": [
        "#### Duplicate Values"
      ],
      "metadata": {
        "id": "35m5QtbWiB9F"
      }
    },
    {
      "cell_type": "code",
      "source": [
        "# Dataset Duplicate Value Count\n",
        "print(\"the total duplicate values are-\",data.duplicated().sum())"
      ],
      "metadata": {
        "id": "1sLdpKYkmox0"
      },
      "execution_count": null,
      "outputs": []
    },
    {
      "cell_type": "markdown",
      "source": [
        "#### Missing Values/Null Values"
      ],
      "metadata": {
        "id": "PoPl-ycgm1ru"
      }
    },
    {
      "cell_type": "code",
      "source": [
        "# Missing Values/Null Values Count\n",
        "total_missing_values = data.isnull().sum().sum()\n",
        "\n",
        "# Print the total number of missing/null values\n",
        "print(\"Total number of missing values/null values count -\", total_missing_values)"
      ],
      "metadata": {
        "id": "GgHWkxvamxVg"
      },
      "execution_count": null,
      "outputs": []
    },
    {
      "cell_type": "code",
      "source": [
        "# Visualizing the missing values\n",
        "# Set the size of the figure\n",
        "plt.figure(figsize=(15, 6))\n",
        "\n",
        "# Count of missing and null values in each column\n",
        "missing_values_per_column = data.isnull().sum()\n",
        "\n",
        "# Create a bar plot of the missing values count\n",
        "missing_values_per_column.plot(kind='bar', color='skyblue')\n",
        "\n",
        "# Set the title of the plot\n",
        "plt.title('Count of Missing Values in Each Column')\n",
        "\n",
        "# Set the label for the x-axis\n",
        "plt.xlabel('Columns')\n",
        "\n",
        "# Set the label for the y-axis\n",
        "plt.ylabel('Count of Missing Values')\n",
        "\n",
        "# Rotate the x-tick labels for better readability\n",
        "plt.xticks(rotation=50)\n",
        "\n",
        "# Adjust layout to ensure everything fits without overlapping\n",
        "plt.tight_layout()\n",
        "\n",
        "# Display the plot\n",
        "plt.show()"
      ],
      "metadata": {
        "id": "3q5wnI3om9sJ"
      },
      "execution_count": null,
      "outputs": []
    },
    {
      "cell_type": "markdown",
      "source": [
        "### What did you know about your dataset?"
      ],
      "metadata": {
        "id": "H0kj-8xxnORC"
      }
    },
    {
      "cell_type": "markdown",
      "source": [
        "The dataset is generally complete but has some missing values, particularly in the children, country, agent, and company columns"
      ],
      "metadata": {
        "id": "gfoNAAC-nUe_"
      }
    },
    {
      "cell_type": "markdown",
      "source": [
        "## ***2. Understanding Your Variables***"
      ],
      "metadata": {
        "id": "nA9Y7ga8ng1Z"
      }
    },
    {
      "cell_type": "code",
      "source": [
        "# Dataset Columns\n",
        "data.columns"
      ],
      "metadata": {
        "id": "j7xfkqrt5Ag5"
      },
      "execution_count": null,
      "outputs": []
    },
    {
      "cell_type": "code",
      "source": [
        "# Dataset Describe\n",
        "data.describe()"
      ],
      "metadata": {
        "id": "DnOaZdaE5Q5t"
      },
      "execution_count": null,
      "outputs": []
    },
    {
      "cell_type": "markdown",
      "source": [
        "### Variables Description"
      ],
      "metadata": {
        "id": "PBTbrJXOngz2"
      }
    },
    {
      "cell_type": "markdown",
      "source": [
        "hotel: Type of hotel (City Hotel or Resort Hotel).\n",
        "is_canceled: Indicates if the booking was canceled (1 if canceled, 0 otherwise).\n",
        "lead_time: Number of days between the booking date and the arrival date.\n",
        "arrival_date_year: Year of arrival date.\n",
        "arrival_date_month: Month of arrival date.\n",
        "arrival_date_week_number: Week number of the arrival date.\n",
        "arrival_date_day_of_month: Day of the month of the arrival date.\n",
        "stays_in_weekend_nights: Number of weekend nights (Saturday or Sunday) the guest stayed or booked to stay.\n",
        "stays_in_week_nights: Number of week nights (Monday to Friday) the guest stayed or booked to stay.\n",
        "adults: Number of adults.\n",
        "children: Number of children.\n",
        "babies: Number of babies.\n",
        "meal: Type of meal booked:\n",
        "BB: Bed & Breakfast\n",
        "HB: Half Board (breakfast and one other meal)\n",
        "FB: Full Board (breakfast, lunch, and dinner)\n",
        "SC: Self Catering (no meals)\n",
        "country: Country of origin of the guest.\n",
        "market_segment: Market segment designation:\n",
        "Direct\n",
        "Corporate\n",
        "Online TA (Online Travel Agents)\n",
        "Offline TA/TO (Offline Travel Agents/Tour Operators)\n",
        "Complementary\n",
        "Groups\n",
        "Undefined\n",
        "Aviation\n",
        "distribution_channel: Booking distribution channel:\n",
        "Direct\n",
        "Corporate\n",
        "TA/TO (Travel Agents/Tour Operators)\n",
        "GDS (Global Distribution Systems)\n",
        "is_repeated_guest: Indicates if the guest is a repeated guest (1 if repeated, 0 otherwise).\n",
        "previous_cancellations: Number of previous bookings that were canceled by the customer.\n",
        "previous_bookings_not_canceled: Number of previous bookings that were not canceled by the customer.\n",
        "reserved_room_type: Code of room type reserved.\n",
        "assigned_room_type: Code for the room type assigned.\n",
        "booking_changes: Number of changes made to the booking.\n",
        "deposit_type: Type of deposit made:\n",
        "No Deposit\n",
        "Non Refund\n",
        "Refundable\n",
        "agent: ID of the travel agency that made the booking.\n",
        "company: ID of the company/entity that made the booking.\n",
        "days_in_waiting_list: Number of days the booking was on the waiting list.\n",
        "customer_type: Type of customer:\n",
        "Transient\n",
        "Transient-Party\n",
        "Contract\n",
        "Group\n",
        "adr: Average Daily Rate, as defined by dividing the sum of all lodging transactions by the total number of staying nights.\n",
        "required_car_parking_spaces: Number of car parking spaces required by the customer.\n",
        "total_of_special_requests: Total number of special requests made by the customer (e.g., extra bed or late check-out).\n",
        "reservation_status: Reservation status:\n",
        "Canceled\n",
        "Check-Out\n",
        "No-Show\n",
        "reservation_status_date: Date when the last status was set."
      ],
      "metadata": {
        "id": "aJV4KIxSnxay"
      }
    },
    {
      "cell_type": "markdown",
      "source": [
        "### Check Unique Values for each variable."
      ],
      "metadata": {
        "id": "u3PMJOP6ngxN"
      }
    },
    {
      "cell_type": "code",
      "source": [
        "# Check Unique Values for each variable.\n",
        "# Check Unique Values for each variable.\n",
        "# Find and display unique values for each column\n",
        "for column in data.columns:\n",
        "    unique_values = data[column].unique()\n",
        "    print(f\"Unique values in column '{column}':\")\n",
        "    print(unique_values)\n",
        "    print()"
      ],
      "metadata": {
        "id": "zms12Yq5n-jE"
      },
      "execution_count": null,
      "outputs": []
    },
    {
      "cell_type": "markdown",
      "source": [
        "## 3. ***Data Wrangling***"
      ],
      "metadata": {
        "id": "dauF4eBmngu3"
      }
    },
    {
      "cell_type": "markdown",
      "source": [
        "### Data Wrangling Code"
      ],
      "metadata": {
        "id": "bKJF3rekwFvQ"
      }
    },
    {
      "cell_type": "code",
      "source": [
        "# Write your code to make your dataset analysis ready.\n",
        "# Remove duplicate rows from the dataset\n",
        "df_deduplicated = data.drop_duplicates(inplace=True)"
      ],
      "metadata": {
        "id": "wk-9a2fpoLcV"
      },
      "execution_count": null,
      "outputs": []
    },
    {
      "cell_type": "code",
      "source": [
        "# Convert the 'hotel' column values to binary representation\n",
        "data[\"hotel\"] = data[\"hotel\"].apply(lambda x: 1 if x == \"Resort Hotel\" else 0)"
      ],
      "metadata": {
        "id": "z390qw14NN22"
      },
      "execution_count": null,
      "outputs": []
    },
    {
      "cell_type": "markdown",
      "source": [
        "### What all manipulations have you done and insights you found?"
      ],
      "metadata": {
        "id": "MSa1f5Uengrz"
      }
    },
    {
      "cell_type": "markdown",
      "source": [
        "i divide the hotel data into two parts one is resort hotel assigned 1 and city hotel assigned 2"
      ],
      "metadata": {
        "id": "LbyXE7I1olp8"
      }
    },
    {
      "cell_type": "markdown",
      "source": [
        "## ***4. Data Vizualization, Storytelling & Experimenting with charts : Understand the relationships between variables***"
      ],
      "metadata": {
        "id": "GF8Ens_Soomf"
      }
    },
    {
      "cell_type": "markdown",
      "source": [
        "#### Chart - 1"
      ],
      "metadata": {
        "id": "0wOQAZs5pc--"
      }
    },
    {
      "cell_type": "code",
      "source": [
        "# Chart - 1 visualization code\n",
        "# Calculate the value counts for each hotel type\n",
        "data_hotel = data[\"hotel\"].value_counts()\n",
        "\n",
        "# Create a bar plot with the calculated values\n",
        "data_hotel.plot(kind='bar', color=['blue', 'orange'])\n",
        "\n",
        "# Set the title of the plot\n",
        "plt.title('Distribution of Hotel Types')\n",
        "\n",
        "# Set the x-ticks to correspond to hotel types\n",
        "plt.xticks(ticks=[0, 1], labels=['City Hotel', 'Resort Hotel'], rotation=0)\n",
        "\n",
        "# Set the label for the y-axis\n",
        "plt.ylabel(\"Number of Bookings\")\n",
        "\n",
        "# Set the label for the x-axis\n",
        "plt.xlabel(\"Types of Hotel\")\n",
        "\n",
        "# Display the plot\n",
        "plt.show()"
      ],
      "metadata": {
        "id": "7v_ESjsspbW7"
      },
      "execution_count": null,
      "outputs": []
    },
    {
      "cell_type": "markdown",
      "source": [
        "##### 1. Why did you pick the specific chart?"
      ],
      "metadata": {
        "id": "K5QZ13OEpz2H"
      }
    },
    {
      "cell_type": "markdown",
      "source": [
        "bar plot chart which are used for comparion of trens over time"
      ],
      "metadata": {
        "id": "XESiWehPqBRc"
      }
    },
    {
      "cell_type": "markdown",
      "source": [
        "##### 2. What is/are the insight(s) found from the chart?"
      ],
      "metadata": {
        "id": "lQ7QKXXCp7Bj"
      }
    },
    {
      "cell_type": "markdown",
      "source": [
        "compare to city hotels,resort hotes are less bookings"
      ],
      "metadata": {
        "id": "C_j1G7yiqdRP"
      }
    },
    {
      "cell_type": "markdown",
      "source": [
        "##### 3. Will the gained insights help creating a positive business impact?\n",
        "Are there any insights that lead to negative growth? Justify with specific reason."
      ],
      "metadata": {
        "id": "448CDAPjqfQr"
      }
    },
    {
      "cell_type": "markdown",
      "source": [
        "if we new entery of hotel field the city are best for investment beacuse it will have more customers"
      ],
      "metadata": {
        "id": "3cspy4FjqxJW"
      }
    },
    {
      "cell_type": "markdown",
      "source": [
        "#### Chart - 2"
      ],
      "metadata": {
        "id": "KSlN3yHqYklG"
      }
    },
    {
      "cell_type": "code",
      "source": [
        "# Chart - 2 visualization code\n",
        "# Group by 'hotel' column and aggregate 'adults', 'children', 'babies'\n",
        "hotel_grouped = data.groupby('hotel').agg({\n",
        "    'adults': 'sum',\n",
        "    'children': 'sum',\n",
        "    'babies': 'sum'\n",
        "})\n",
        "\n",
        "# Extract data for City Hotel and Resort Hotel\n",
        "city_hotel_data = hotel_grouped.loc[0]\n",
        "resort_hotel_data = hotel_grouped.loc[1]\n",
        "\n",
        "# Plot pie chart for City Hotel\n",
        "fig, ax = plt.subplots(figsize=(8, 6))\n",
        "ax.pie(city_hotel_data, labels=['Adults', 'Children', 'Babies'], autopct='%1.1f%%', colors=['blue', 'green', 'red'])\n",
        "ax.set_title('City Hotel')\n",
        "plt.show()\n",
        "\n",
        "# Plot pie chart for Resort Hotel\n",
        "fig, ax = plt.subplots(figsize=(8, 6))\n",
        "ax.pie(resort_hotel_data, labels=['Adults', 'Children', 'Babies'], autopct='%1.1f%%', colors=['blue', 'green', 'red'])\n",
        "ax.set_title('Resort Hotel')\n",
        "plt.show()\n"
      ],
      "metadata": {
        "id": "VhlcCPkKXMLp"
      },
      "execution_count": null,
      "outputs": []
    },
    {
      "cell_type": "markdown",
      "source": [
        "##### 1. Why did you pick the specific chart?"
      ],
      "metadata": {
        "id": "t6dVpIINYklI"
      }
    },
    {
      "cell_type": "markdown",
      "source": [
        "pie chart best for showing percentages"
      ],
      "metadata": {
        "id": "5aaW0BYyYklI"
      }
    },
    {
      "cell_type": "markdown",
      "source": [
        "##### 2. What is/are the insight(s) found from the chart?"
      ],
      "metadata": {
        "id": "ijmpgYnKYklI"
      }
    },
    {
      "cell_type": "markdown",
      "source": [
        "so we divide the data into two types so we can find which category people are which hotel pferble"
      ],
      "metadata": {
        "id": "PSx9atu2YklI"
      }
    },
    {
      "cell_type": "markdown",
      "source": [
        "##### 3. Will the gained insights help creating a positive business impact?\n",
        "Are there any insights that lead to negative growth? Justify with specific reason."
      ],
      "metadata": {
        "id": "-JiQyfWJYklI"
      }
    },
    {
      "cell_type": "markdown",
      "source": [
        "so we majorly we take adults more preferble city hotels"
      ],
      "metadata": {
        "id": "BcBbebzrYklV"
      }
    },
    {
      "cell_type": "markdown",
      "source": [
        "#### Chart - 3"
      ],
      "metadata": {
        "id": "EM7whBJCYoAo"
      }
    },
    {
      "cell_type": "code",
      "source": [
        "# Chart - 3 visualization code\n",
        "# Define the month mapping dictionary\n",
        "month_mapping = {\n",
        "    \"January\": 1,\n",
        "    \"February\": 2,\n",
        "    \"March\": 3,\n",
        "    \"April\": 4,\n",
        "    \"May\": 5,\n",
        "    \"June\": 6,\n",
        "    \"July\": 7,\n",
        "    \"August\": 8,\n",
        "    \"September\": 9,\n",
        "    \"October\": 10,\n",
        "    \"November\": 11,\n",
        "    \"December\": 12\n",
        "}\n",
        "\n",
        "# Apply the mapping to the 'arrival_date_month' column\n",
        "data[\"arrival_date_month\"] = data[\"arrival_date_month\"].map(month_mapping)\n",
        "\n",
        "# Count the occurrences of each month\n",
        "month_count = data[\"arrival_date_month\"].value_counts().sort_index()\n",
        "\n",
        "# Plot the line chart\n",
        "plt.plot(month_count.index, month_count.values, marker='o')\n",
        "\n",
        "# Set the title of the plot\n",
        "plt.title('Monthly Arrival Counts')\n",
        "\n",
        "# Set the label for the x-axis\n",
        "plt.xlabel('Month')\n",
        "\n",
        "# Set the label for the y-axis\n",
        "plt.ylabel('Number of Arrivals')\n",
        "\n",
        "# Set the x-ticks to correspond to month names\n",
        "plt.xticks(ticks=range(1, 13), labels=list(month_mapping.keys()), rotation=45)\n",
        "\n",
        "# Enable the grid for better readability\n",
        "plt.grid(True)\n",
        "\n",
        "# Adjust layout to ensure everything fits without overlapping\n",
        "plt.tight_layout()\n",
        "\n",
        "# Display the plot\n",
        "plt.show()"
      ],
      "metadata": {
        "id": "C0asRpDI6F5r"
      },
      "execution_count": null,
      "outputs": []
    },
    {
      "cell_type": "markdown",
      "source": [
        "##### 1. Why did you pick the specific chart?"
      ],
      "metadata": {
        "id": "fge-S5ZAYoAp"
      }
    },
    {
      "cell_type": "markdown",
      "source": [
        "When you have data points that are sequential and continuous, such as months of the year, a line chart helps in visualizing the continuity of the data."
      ],
      "metadata": {
        "id": "5dBItgRVYoAp"
      }
    },
    {
      "cell_type": "markdown",
      "source": [
        "##### 2. What is/are the insight(s) found from the chart?"
      ],
      "metadata": {
        "id": "85gYPyotYoAp"
      }
    },
    {
      "cell_type": "markdown",
      "source": [
        "From above data we can underestand the auguest,july month are most profitable to hotels"
      ],
      "metadata": {
        "id": "4jstXR6OYoAp"
      }
    },
    {
      "cell_type": "markdown",
      "source": [
        "##### 3. Will the gained insights help creating a positive business impact?\n",
        "Are there any insights that lead to negative growth? Justify with specific reason."
      ],
      "metadata": {
        "id": "RoGjAbkUYoAp"
      }
    },
    {
      "cell_type": "markdown",
      "source": [
        "so we need focus on january,november,december month are booking are low so we need to give offers on those months"
      ],
      "metadata": {
        "id": "zfJ8IqMcYoAp"
      }
    },
    {
      "cell_type": "markdown",
      "source": [
        "#### Chart - 4"
      ],
      "metadata": {
        "id": "4Of9eVA-YrdM"
      }
    },
    {
      "cell_type": "code",
      "source": [
        "# Chart - 4 visualization code\n",
        "# Count the occurrences of cancellations and non-cancellations\n",
        "cancell = data[\"is_canceled\"].value_counts()\n",
        "\n",
        "# Create a bar plot with the calculated values\n",
        "cancell.plot(kind='bar', color=['blue', 'orange'])\n",
        "\n",
        "# Set the title of the plot\n",
        "plt.title('Distribution of Cancellation Data')\n",
        "\n",
        "# Set the x-ticks to correspond to cancellation and non-cancellation\n",
        "plt.xticks(ticks=[1, 0], labels=['Cancelled', 'Not Cancelled'], rotation=45)\n",
        "\n",
        "# Set the label for the y-axis\n",
        "plt.ylabel(\"Number of Bookings\")\n",
        "\n",
        "# Set the label for the x-axis\n",
        "plt.xlabel(\"Cancellation Status\")\n",
        "\n",
        "# Display the plot\n",
        "plt.show()"
      ],
      "metadata": {
        "id": "oOogmF_sDiBe"
      },
      "execution_count": null,
      "outputs": []
    },
    {
      "cell_type": "markdown",
      "source": [
        "##### 1. Why did you pick the specific chart?"
      ],
      "metadata": {
        "id": "iky9q4vBYrdO"
      }
    },
    {
      "cell_type": "markdown",
      "source": [
        "bar chart is used for comparition of trends"
      ],
      "metadata": {
        "id": "aJRCwT6DYrdO"
      }
    },
    {
      "cell_type": "markdown",
      "source": [
        "##### 2. What is/are the insight(s) found from the chart?"
      ],
      "metadata": {
        "id": "F6T5p64dYrdO"
      }
    },
    {
      "cell_type": "markdown",
      "source": [
        "there area more number of cancelations are there"
      ],
      "metadata": {
        "id": "Xx8WAJvtYrdO"
      }
    },
    {
      "cell_type": "markdown",
      "source": [
        "##### 3. Will the gained insights help creating a positive business impact?\n",
        "Are there any insights that lead to negative growth? Justify with specific reason."
      ],
      "metadata": {
        "id": "y-Ehk30pYrdP"
      }
    },
    {
      "cell_type": "markdown",
      "source": [
        "more number of cancellations are lead decreasing the hotels reputaion"
      ],
      "metadata": {
        "id": "jLNxxz7MYrdP"
      }
    },
    {
      "cell_type": "markdown",
      "source": [
        "#### Chart - 5"
      ],
      "metadata": {
        "id": "bamQiAODYuh1"
      }
    },
    {
      "cell_type": "code",
      "source": [
        "# Mapping customer types to integers\n",
        "cus = {\"Transient\": 1, \"Contract\": 2, \"Transient-Party\": 3}\n",
        "data[\"customer_type\"] = data[\"customer_type\"].map(cus)\n",
        "\n",
        "# Count the customer types\n",
        "type_customer = data[\"customer_type\"].value_counts()\n",
        "\n",
        "# Define labels in the correct order\n",
        "labels = ['Transient', 'Contract', 'Transient-Party']\n",
        "# Get counts for the pie chart in the correct order\n",
        "sizes = [type_customer.get(1, 0), type_customer.get(2, 0), type_customer.get(3, 0)]\n",
        "\n",
        "# Check if sizes are all zeros\n",
        "if sum(sizes) == 0:\n",
        "    print(\"No data available to display in pie chart.\")\n",
        "else:\n",
        "    # Create the pie chart\n",
        "    fig, ax = plt.subplots(figsize=(8, 6))\n",
        "    ax.pie(sizes, labels=labels, autopct='%1.1f%%', colors=['blue', 'green', 'red'])\n",
        "    ax.set_title('Resort Hotel')\n",
        "\n",
        "    # Display the pie chart\n",
        "    plt.show()"
      ],
      "metadata": {
        "id": "TIJwrbroYuh3"
      },
      "execution_count": null,
      "outputs": []
    },
    {
      "cell_type": "markdown",
      "source": [
        "##### 1. Why did you pick the specific chart?"
      ],
      "metadata": {
        "id": "QHF8YVU7Yuh3"
      }
    },
    {
      "cell_type": "markdown",
      "source": [
        "pie is great for comparision for using per centages"
      ],
      "metadata": {
        "id": "dcxuIMRPYuh3"
      }
    },
    {
      "cell_type": "markdown",
      "source": [
        "##### 2. What is/are the insight(s) found from the chart?"
      ],
      "metadata": {
        "id": "GwzvFGzlYuh3"
      }
    },
    {
      "cell_type": "markdown",
      "source": [
        "there are huge numbers of transient customers"
      ],
      "metadata": {
        "id": "uyqkiB8YYuh3"
      }
    },
    {
      "cell_type": "markdown",
      "source": [
        "##### 3. Will the gained insights help creating a positive business impact?\n",
        "Are there any insights that lead to negative growth? Justify with specific reason."
      ],
      "metadata": {
        "id": "qYpmQ266Yuh3"
      }
    },
    {
      "cell_type": "markdown",
      "source": [
        "there are more number of transient so it will create postive rate, We need focus on contract customers also it give negative impact."
      ],
      "metadata": {
        "id": "_WtzZ_hCYuh4"
      }
    },
    {
      "cell_type": "markdown",
      "source": [
        "## **5. Solution to Business Objective**"
      ],
      "metadata": {
        "id": "JcMwzZxoAimU"
      }
    },
    {
      "cell_type": "markdown",
      "source": [
        "#### What do you suggest the client to achieve Business Objective ?\n",
        "Explain Briefly."
      ],
      "metadata": {
        "id": "8G2x9gOozGDZ"
      }
    },
    {
      "cell_type": "markdown",
      "source": [
        "increase Bookings and Reduce Cancellations:\n",
        "\n",
        "Analysis of Lead Time and Cancellation Rates: Evaluate the relationship between lead time and cancellations to identify the optimal booking window.\n",
        "Customer Segmentation: Use market segment, distribution channel, and customer type data to target promotions and offers.\n",
        "\n",
        "Market Expansion:\n",
        "\n",
        "Country and Market Segment Analysis: Identify top source countries and market segments to tailor marketing efforts and expand the customer base"
      ],
      "metadata": {
        "id": "pASKb0qOza21"
      }
    },
    {
      "cell_type": "markdown",
      "source": [
        "# **Conclusion**"
      ],
      "metadata": {
        "id": "gCX9965dhzqZ"
      }
    },
    {
      "cell_type": "markdown",
      "source": [
        "Increase Bookings and Reduce Cancellations,Optimize Revenue Management,Improve Guest Experience,Market Expansion.By addressing these strategic areas, the client can achieve improved occupancy rates, higher guest satisfaction, and increased profitability, ensuring sustained growth and success in a competitive market."
      ],
      "metadata": {
        "id": "Fjb1IsQkh3yE"
      }
    },
    {
      "cell_type": "markdown",
      "source": [
        "### ***Hurrah! You have successfully completed your EDA Capstone Project !!!***"
      ],
      "metadata": {
        "id": "gIfDvo9L0UH2"
      }
    }
  ]
}